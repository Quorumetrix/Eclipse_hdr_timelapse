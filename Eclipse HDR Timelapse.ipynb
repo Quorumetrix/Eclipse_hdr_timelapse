{
 "cells": [
  {
   "cell_type": "markdown",
   "metadata": {},
   "source": [
    "# Eclipse HDR timelapse"
   ]
  },
  {
   "cell_type": "markdown",
   "metadata": {},
   "source": [
    "If you have a webcam or USB camera connected to a PC in the path of totality, then point your camera towards the sky and run this notebook.\n",
    "\n",
    "This notebook will:\n",
    "- Access you camera with open-cv.\n",
    "- Determine timepoints of interest to capture the duration of the eclipse at 1-minute intervals. \n",
    "- For each timepoint, will capture a user-defined range of exposures, that can be used to create an HDR image."
   ]
  },
  {
   "cell_type": "code",
   "execution_count": 1,
   "metadata": {},
   "outputs": [],
   "source": [
    "# Import modules\n",
    "import cv2\n",
    "from camera_automation import *"
   ]
  },
  {
   "cell_type": "markdown",
   "metadata": {},
   "source": [
    "All the setings you might change are in the next cell:\n",
    "\n",
    "This notebook allows you to do a dry run of your acquisition before the actual eclipse by setting \n",
    "TEST_RUN = True\n",
    "Which will set your timelapse timepoints to todays date\n",
    "and choosing a TEST_OFFSET \n",
    "which will offset the starting hour of the acquisition by a chosen number of hours.\n",
    "\n",
    "For example, if I want to test the exact eclipse timecourse today, I would set TEST_OFFSET to 0.\n",
    "\n",
    "Otherwise, if I wanted to test it tonight when the sun is down, I would set TEST_OFFSET to 8, to offset by 8 hours."
   ]
  },
  {
   "cell_type": "code",
   "execution_count": 2,
   "metadata": {},
   "outputs": [
    {
     "name": "stdout",
     "output_type": "stream",
     "text": [
      "Camera exposures:\n"
     ]
    },
    {
     "data": {
      "text/plain": [
       "['0.00049',\n",
       " '0.00098',\n",
       " '0.00195',\n",
       " '0.00391',\n",
       " '0.00781',\n",
       " '0.01562',\n",
       " '0.03125',\n",
       " '0.06250',\n",
       " '0.12500',\n",
       " '0.25000',\n",
       " '0.50000',\n",
       " '1']"
      ]
     },
     "execution_count": 2,
     "metadata": {},
     "output_type": "execute_result"
    }
   ],
   "source": [
    "# Define your parameters:\n",
    "TEST_RUN = True\n",
    "TEST_OFFSET = -3.5 #h\n",
    "TIMELAPSE_INTERVAL = 60 # seconds\n",
    "YEAR = \"2024\"\n",
    "BASE_OUTPUT_FOLDER = 'M:/cv2_output/'\n",
    "EXPOSURE_BASES = list(range(-11, 1)) \n",
    "\n",
    "exposure_times = [2 ** base for base in EXPOSURE_BASES]\n",
    "formatted_exposure_times = [f\"{time:.5f}\" if time < 1 else str(int(time)) for time in exposure_times]\n",
    "print('Camera exposures:')\n",
    "formatted_exposure_times\n",
    "\n",
    "\n"
   ]
  },
  {
   "cell_type": "code",
   "execution_count": 3,
   "metadata": {},
   "outputs": [],
   "source": [
    "# Initialize camera\n",
    "camera = cv2.VideoCapture(0)"
   ]
  },
  {
   "cell_type": "markdown",
   "metadata": {},
   "source": [
    "Find your location on the map at:\n",
    "[https://www.timeanddate.com/eclipse/map/2024-april-8](https://www.timeanddate.com/eclipse/map/2024-april-8)\n",
    "\n",
    "And copy the text, for example:\n",
    "\n",
    "- **Partial begins:** Apr 8 at 2:14:31 pm\n",
    "- **Full begins:** Apr 8 at 3:27:10 pm\n",
    "- **Maximum:** Apr 8 at 3:27:34 pm\n",
    "- **Full ends:** Apr 8 at 3:27:58 pm\n",
    "- **Partial ends:** Apr 8 at 4:36:52 pm\n"
   ]
  },
  {
   "cell_type": "code",
   "execution_count": 4,
   "metadata": {},
   "outputs": [],
   "source": [
    "# Paste the text below in the triple quotation marks\n",
    "ECLIPSE_TEXT = \"\"\"\n",
    "Partial begins\n",
    "Apr 8 at 2:14:31 pm\n",
    "Full begins\n",
    "Apr 8 at 3:27:10 pm\n",
    "Maximum\n",
    "Apr 8 at 3:27:34 pm\n",
    "Full ends\n",
    "Apr 8 at 3:27:58 pm\n",
    "Partial ends\n",
    "Apr 8 at 4:36:52 pm\n",
    "\"\"\""
   ]
  },
  {
   "cell_type": "markdown",
   "metadata": {},
   "source": [
    "Extract the formatted datetimes from the text, and verify that it matches what is seen on the webpage. \n",
    "Especially important is the middle value that is the maximum.\n",
    "These are the timepoints you will use to automate your camera. "
   ]
  },
  {
   "cell_type": "code",
   "execution_count": 5,
   "metadata": {},
   "outputs": [
    {
     "name": "stdout",
     "output_type": "stream",
     "text": [
      "2024-04-08 14:14:31\n",
      "2024-04-08 15:27:10\n",
      "2024-04-08 15:27:34\n",
      "2024-04-08 15:27:58\n",
      "2024-04-08 16:36:52\n"
     ]
    }
   ],
   "source": [
    "# Extract datetime objects\n",
    "\n",
    "extracted_datetimes = extract_datetime(ECLIPSE_TEXT, YEAR)\n",
    "for dt in extracted_datetimes:\n",
    "    print(dt)\n"
   ]
  },
  {
   "cell_type": "markdown",
   "metadata": {},
   "source": [
    "Since we want the timelapse to capture the entire duration of the eclipse, and not just selected timepoints, then we will create a list of timepoints to use. \n",
    "\n",
    "This will ensure that there is an acquisition started exactly at the time of the maximum, by centering the timepoints at specifically this time. "
   ]
  },
  {
   "cell_type": "code",
   "execution_count": 6,
   "metadata": {},
   "outputs": [
    {
     "name": "stdout",
     "output_type": "stream",
     "text": [
      "2024-04-05 10:24:43.685018\n",
      "2024-04-05 10:44:31\n",
      "2024-04-05 10:46:34\n",
      "2024-04-05 10:47:34\n",
      "2024-04-05 10:48:34\n",
      "2024-04-05 10:49:34\n",
      "2024-04-05 10:50:34\n",
      "2024-04-05 10:51:34\n",
      "2024-04-05 10:52:34\n",
      "2024-04-05 10:53:34\n",
      "2024-04-05 10:54:34\n",
      "2024-04-05 10:55:34\n",
      "2024-04-05 10:56:34\n",
      "2024-04-05 10:57:34\n",
      "2024-04-05 10:58:34\n",
      "2024-04-05 10:59:34\n",
      "2024-04-05 11:00:34\n",
      "2024-04-05 11:01:34\n",
      "2024-04-05 11:02:34\n",
      "2024-04-05 11:03:34\n",
      "2024-04-05 11:04:34\n",
      "2024-04-05 11:05:34\n",
      "2024-04-05 11:06:34\n",
      "2024-04-05 11:07:34\n",
      "2024-04-05 11:08:34\n",
      "2024-04-05 11:09:34\n",
      "2024-04-05 11:10:34\n",
      "2024-04-05 11:11:34\n",
      "2024-04-05 11:12:34\n",
      "2024-04-05 11:13:34\n",
      "2024-04-05 11:14:34\n",
      "2024-04-05 11:15:34\n",
      "2024-04-05 11:16:34\n",
      "2024-04-05 11:17:34\n",
      "2024-04-05 11:18:34\n",
      "2024-04-05 11:19:34\n",
      "2024-04-05 11:20:34\n",
      "2024-04-05 11:21:34\n",
      "2024-04-05 11:22:34\n",
      "2024-04-05 11:23:34\n",
      "2024-04-05 11:24:34\n",
      "2024-04-05 11:25:34\n",
      "2024-04-05 11:26:34\n",
      "2024-04-05 11:27:34\n",
      "2024-04-05 11:28:34\n",
      "2024-04-05 11:29:34\n",
      "2024-04-05 11:30:34\n",
      "2024-04-05 11:31:34\n",
      "2024-04-05 11:32:34\n",
      "2024-04-05 11:33:34\n",
      "2024-04-05 11:34:34\n",
      "2024-04-05 11:35:34\n",
      "2024-04-05 11:36:34\n",
      "2024-04-05 11:37:34\n",
      "2024-04-05 11:38:34\n",
      "2024-04-05 11:39:34\n",
      "2024-04-05 11:40:34\n",
      "2024-04-05 11:41:34\n",
      "2024-04-05 11:42:34\n",
      "2024-04-05 11:43:34\n",
      "2024-04-05 11:44:34\n",
      "2024-04-05 11:45:34\n",
      "2024-04-05 11:46:34\n",
      "2024-04-05 11:47:34\n",
      "2024-04-05 11:48:34\n",
      "2024-04-05 11:49:34\n",
      "2024-04-05 11:50:34\n",
      "2024-04-05 11:51:34\n",
      "2024-04-05 11:52:34\n",
      "2024-04-05 11:53:34\n",
      "2024-04-05 11:54:34\n",
      "2024-04-05 11:55:34\n",
      "2024-04-05 11:56:34\n",
      "2024-04-05 11:57:10\n",
      "2024-04-05 11:57:34\n",
      "2024-04-05 11:57:58\n",
      "2024-04-05 11:58:34\n",
      "2024-04-05 11:59:34\n",
      "2024-04-05 12:00:34\n",
      "2024-04-05 12:01:34\n",
      "2024-04-05 12:02:34\n",
      "2024-04-05 12:03:34\n",
      "2024-04-05 12:04:34\n",
      "2024-04-05 12:05:34\n",
      "2024-04-05 12:06:34\n",
      "2024-04-05 12:07:34\n",
      "2024-04-05 12:08:34\n",
      "2024-04-05 12:09:34\n",
      "2024-04-05 12:10:34\n",
      "2024-04-05 12:11:34\n",
      "2024-04-05 12:12:34\n",
      "2024-04-05 12:13:34\n",
      "2024-04-05 12:14:34\n",
      "2024-04-05 12:15:34\n",
      "2024-04-05 12:16:34\n",
      "2024-04-05 12:17:34\n",
      "2024-04-05 12:18:34\n",
      "2024-04-05 12:19:34\n",
      "2024-04-05 12:20:34\n",
      "2024-04-05 12:21:34\n",
      "2024-04-05 12:22:34\n",
      "2024-04-05 12:23:34\n",
      "2024-04-05 12:24:34\n",
      "2024-04-05 12:25:34\n",
      "2024-04-05 12:26:34\n",
      "2024-04-05 12:27:34\n",
      "2024-04-05 12:28:34\n",
      "2024-04-05 12:29:34\n",
      "2024-04-05 12:30:34\n",
      "2024-04-05 12:31:34\n",
      "2024-04-05 12:32:34\n",
      "2024-04-05 12:33:34\n",
      "2024-04-05 12:34:34\n",
      "2024-04-05 12:35:34\n",
      "2024-04-05 12:36:34\n",
      "2024-04-05 12:37:34\n",
      "2024-04-05 12:38:34\n",
      "2024-04-05 12:39:34\n",
      "2024-04-05 12:40:34\n",
      "2024-04-05 12:41:34\n",
      "2024-04-05 12:42:34\n",
      "2024-04-05 12:43:34\n",
      "2024-04-05 12:44:34\n",
      "2024-04-05 12:45:34\n",
      "2024-04-05 12:46:34\n",
      "2024-04-05 12:47:34\n",
      "2024-04-05 12:48:34\n",
      "2024-04-05 12:49:34\n",
      "2024-04-05 12:50:34\n",
      "2024-04-05 12:51:34\n",
      "2024-04-05 12:52:34\n",
      "2024-04-05 12:53:34\n",
      "2024-04-05 12:54:34\n",
      "2024-04-05 12:55:34\n",
      "2024-04-05 12:56:34\n",
      "2024-04-05 12:57:34\n",
      "2024-04-05 12:58:34\n",
      "2024-04-05 12:59:34\n",
      "2024-04-05 13:00:34\n",
      "2024-04-05 13:01:34\n",
      "2024-04-05 13:02:34\n",
      "2024-04-05 13:03:34\n",
      "2024-04-05 13:04:34\n",
      "2024-04-05 13:05:34\n",
      "2024-04-05 13:06:34\n",
      "2024-04-05 13:06:52\n",
      "2024-04-05 13:07:34\n",
      "2024-04-05 13:08:34\n"
     ]
    }
   ],
   "source": [
    "if TEST_RUN:\n",
    "    \n",
    "    # Change each of the datetime objects to be for today (FOR TESTING)\n",
    "    today = datetime.now().date()\n",
    "    datetimes_for_today = [datetime.combine(today, dt.time()) for dt in extracted_datetimes]\n",
    "\n",
    "    # Offset the timepoints around the eclipse a user-defined amount\n",
    "    adjusted_timepoints = [tp + timedelta(hours=TEST_OFFSET) for tp in datetimes_for_today]\n",
    "\n",
    "    # Now create 1min intervals centered on the middle one.\n",
    "    centered_timepoints = generate_centered_timepoints(adjusted_timepoints, TIMELAPSE_INTERVAL)\n",
    "\n",
    "\n",
    "# Otherwise use the real eclipse date and time\n",
    "else:\n",
    "\n",
    "    # Now create 1min intervals centered on the middle one.\n",
    "    centered_timepoints = generate_centered_timepoints(extracted_datetimes, TIMELAPSE_INTERVAL)\n",
    "\n",
    "\n",
    "# Add a timepoint for 1 minute from now at the start to test the aquisition is running properly\n",
    "one_minute_from_now = datetime.now() + timedelta(minutes=1)\n",
    "if one_minute_from_now < centered_timepoints[0]:\n",
    "    centered_timepoints.insert(0, one_minute_from_now)\n",
    "\n",
    "# Print the list of all timepoints\n",
    "for tp in centered_timepoints:\n",
    "    print(tp)"
   ]
  },
  {
   "cell_type": "markdown",
   "metadata": {},
   "source": [
    "You can verify the list of timepoints looks correct and covers the range of the eclipse at your location. \n",
    "The first timepoint is always 1 minute from now, so we can test the acquisition. \n",
    "For some reason, occasionally connecting to the camera will fail, so by making the first timepoint of the acquisition exactly 1 minute in the future, \n",
    "you can verify the automation is working correctly before leaving to see the eclipse. \n",
    "\n",
    "\n"
   ]
  },
  {
   "cell_type": "code",
   "execution_count": 7,
   "metadata": {},
   "outputs": [
    {
     "name": "stdout",
     "output_type": "stream",
     "text": [
      "Created folder M:/cv2_output/eclipse_2024-04-05_10-24-43\n",
      "Starting acquisition: 2024-04-05_10-24-43\n",
      "All images successfully captured for timepoint: 2024-04-05_10-24-43\n"
     ]
    }
   ],
   "source": [
    "if camera.isOpened():\n",
    "\n",
    "    timed_capture(camera, BASE_OUTPUT_FOLDER, EXPOSURE_BASES, centered_timepoints, label='eclipse')\n",
    "    # camera.release()\n",
    "else:\n",
    "    print(\"Camera could not be initialized.\")"
   ]
  },
  {
   "cell_type": "code",
   "execution_count": null,
   "metadata": {},
   "outputs": [],
   "source": []
  }
 ],
 "metadata": {
  "kernelspec": {
   "display_name": "eclipse_photos",
   "language": "python",
   "name": "python3"
  },
  "language_info": {
   "codemirror_mode": {
    "name": "ipython",
    "version": 3
   },
   "file_extension": ".py",
   "mimetype": "text/x-python",
   "name": "python",
   "nbconvert_exporter": "python",
   "pygments_lexer": "ipython3",
   "version": "3.9.19"
  }
 },
 "nbformat": 4,
 "nbformat_minor": 2
}
